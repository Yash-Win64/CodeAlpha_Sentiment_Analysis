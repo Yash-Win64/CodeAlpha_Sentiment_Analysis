{
 "cells": [
  {
   "cell_type": "markdown",
   "id": "e575ac51-8b12-4e3d-979d-cadab3001948",
   "metadata": {},
   "source": [
    "# 📝 CodeAlpha Internship – Task 4: Sentiment Analysis\n",
    "**Dataset:** Custom Reviews Dataset (IMDB / Twitter / Amazon) - IMDB Reviews  \n",
    "**Intern:** Yash Mishra \n",
    "\n",
    "This notebook applies Natural Language Processing (NLP) techniques to classify text (reviews, tweets, or feedback) into **positive, negative, or neutral** sentiments.  \n",
    "We use preprocessing, TF-IDF vectorization, and a Naive Bayes classifier.\n"
   ]
  },
  {
   "cell_type": "markdown",
   "id": "d6da3b6d-96ea-4f9c-b41b-8ac9aa9b52ee",
   "metadata": {},
   "source": [
    "# Import Libraries & Load Data"
   ]
  },
  {
   "cell_type": "code",
   "execution_count": 11,
   "id": "3a19173a-c795-4f66-b35c-25cbdd560f34",
   "metadata": {},
   "outputs": [],
   "source": [
    "import pandas as pd\n",
    "import numpy as np\n",
    "from sklearn.model_selection import train_test_split\n",
    "from sklearn.feature_extraction.text import CountVectorizer, TfidfVectorizer\n",
    "from sklearn.naive_bayes import MultinomialNB\n",
    "from sklearn.metrics import classification_report, confusion_matrix"
   ]
  },
  {
   "cell_type": "code",
   "execution_count": 9,
   "id": "a901ea30-257b-487d-9b30-35d05f3ebb24",
   "metadata": {},
   "outputs": [
    {
     "data": {
      "text/html": [
       "<div>\n",
       "<style scoped>\n",
       "    .dataframe tbody tr th:only-of-type {\n",
       "        vertical-align: middle;\n",
       "    }\n",
       "\n",
       "    .dataframe tbody tr th {\n",
       "        vertical-align: top;\n",
       "    }\n",
       "\n",
       "    .dataframe thead th {\n",
       "        text-align: right;\n",
       "    }\n",
       "</style>\n",
       "<table border=\"1\" class=\"dataframe\">\n",
       "  <thead>\n",
       "    <tr style=\"text-align: right;\">\n",
       "      <th></th>\n",
       "      <th>review</th>\n",
       "      <th>sentiment</th>\n",
       "    </tr>\n",
       "  </thead>\n",
       "  <tbody>\n",
       "    <tr>\n",
       "      <th>0</th>\n",
       "      <td>One of the other reviewers has mentioned that ...</td>\n",
       "      <td>positive</td>\n",
       "    </tr>\n",
       "    <tr>\n",
       "      <th>1</th>\n",
       "      <td>A wonderful little production. &lt;br /&gt;&lt;br /&gt;The...</td>\n",
       "      <td>positive</td>\n",
       "    </tr>\n",
       "    <tr>\n",
       "      <th>2</th>\n",
       "      <td>I thought this was a wonderful way to spend ti...</td>\n",
       "      <td>positive</td>\n",
       "    </tr>\n",
       "    <tr>\n",
       "      <th>3</th>\n",
       "      <td>Basically there's a family where a little boy ...</td>\n",
       "      <td>negative</td>\n",
       "    </tr>\n",
       "    <tr>\n",
       "      <th>4</th>\n",
       "      <td>Petter Mattei's \"Love in the Time of Money\" is...</td>\n",
       "      <td>positive</td>\n",
       "    </tr>\n",
       "  </tbody>\n",
       "</table>\n",
       "</div>"
      ],
      "text/plain": [
       "                                              review sentiment\n",
       "0  One of the other reviewers has mentioned that ...  positive\n",
       "1  A wonderful little production. <br /><br />The...  positive\n",
       "2  I thought this was a wonderful way to spend ti...  positive\n",
       "3  Basically there's a family where a little boy ...  negative\n",
       "4  Petter Mattei's \"Love in the Time of Money\" is...  positive"
      ]
     },
     "execution_count": 9,
     "metadata": {},
     "output_type": "execute_result"
    }
   ],
   "source": [
    "df = pd.read_csv(r\"C:\\Users\\Lenovo\\Downloads\\IMDB_csv_review\\IMDB Dataset.csv\")\n",
    "df.head()"
   ]
  },
  {
   "cell_type": "markdown",
   "id": "9e2478d2-89ed-4f61-bb19-92bf74e520bc",
   "metadata": {},
   "source": [
    "# Text Preprocessing"
   ]
  },
  {
   "cell_type": "code",
   "execution_count": 15,
   "id": "574d7ff9-0218-4063-a265-68cd9bc415c3",
   "metadata": {},
   "outputs": [],
   "source": [
    "vectorizer = TfidfVectorizer(stop_words=\"english\", max_features=5000)\n",
    "X = vectorizer.fit_transform(df[\"review\"])\n",
    "y = df[\"sentiment\"]"
   ]
  },
  {
   "cell_type": "markdown",
   "id": "4ad25494-5a07-40e6-a981-3c13bb208d23",
   "metadata": {},
   "source": [
    "# Train-Test Split"
   ]
  },
  {
   "cell_type": "code",
   "execution_count": 23,
   "id": "013c690b-cbfa-4856-b17d-9f069045167a",
   "metadata": {},
   "outputs": [],
   "source": [
    "X_train, X_test, y_train, y_test = train_test_split(\n",
    "    X, y, test_size=0.2, random_state=42)"
   ]
  },
  {
   "cell_type": "markdown",
   "id": "5fdae0b5-3ed1-430d-ba27-51d20ee260fd",
   "metadata": {},
   "source": [
    "# Train Model"
   ]
  },
  {
   "cell_type": "code",
   "execution_count": 25,
   "id": "d277bc09-a597-4802-a134-2889ce5d62cb",
   "metadata": {},
   "outputs": [],
   "source": [
    "model = MultinomialNB()\n",
    "model.fit(X_train, y_train)\n",
    "\n",
    "y_pred = model.predict(X_test)\n"
   ]
  },
  {
   "cell_type": "markdown",
   "id": "745fe8d8-f10d-431e-ab54-04ba594dcb50",
   "metadata": {},
   "source": [
    "# Evaluate"
   ]
  },
  {
   "cell_type": "code",
   "execution_count": 29,
   "id": "78491700-74e4-4247-b021-813b4f91134c",
   "metadata": {},
   "outputs": [
    {
     "name": "stdout",
     "output_type": "stream",
     "text": [
      "Classification Report:\n",
      "               precision    recall  f1-score   support\n",
      "\n",
      "    negative       0.85      0.85      0.85      4961\n",
      "    positive       0.85      0.86      0.85      5039\n",
      "\n",
      "    accuracy                           0.85     10000\n",
      "   macro avg       0.85      0.85      0.85     10000\n",
      "weighted avg       0.85      0.85      0.85     10000\n",
      "\n",
      "Confusion Matrix:\n",
      " [[4204  757]\n",
      " [ 730 4309]]\n"
     ]
    }
   ],
   "source": [
    "print(\"Classification Report:\\n\", classification_report(y_test, y_pred))\n",
    "print(\"Confusion Matrix:\\n\", confusion_matrix(y_test, y_pred))"
   ]
  },
  {
   "cell_type": "markdown",
   "id": "a472539c-63a4-4267-8e24-d72528cb95f9",
   "metadata": {},
   "source": [
    "# Testing(Custome Input)"
   ]
  },
  {
   "cell_type": "code",
   "execution_count": 33,
   "id": "e6d38672-092e-41ba-ae9c-8871346c55fb",
   "metadata": {},
   "outputs": [
    {
     "name": "stdout",
     "output_type": "stream",
     "text": [
      "['positive' 'negative' 'negative']\n"
     ]
    }
   ],
   "source": [
    "sample = [\"This product is awesome!\", \"I hate this item.\", \"Not bad, just average.\"]\n",
    "sample_vec = vectorizer.transform(sample)\n",
    "print(model.predict(sample_vec))\n"
   ]
  },
  {
   "cell_type": "markdown",
   "id": "a80e8748-8462-42af-924e-a858420a1a56",
   "metadata": {},
   "source": [
    "# -->Key Insights<--\n",
    "\n",
    "1. The model can classify reviews into **positive, negative, or neutral**.  \n",
    "2. Naive Bayes with **TF-IDF** performs well for small-to-medium datasets.  \n",
    "3. This method can be applied to **Amazon reviews, tweets, or customer feedback**.  \n",
    "4. Businesses can leverage this to track **customer satisfaction and brand reputation**.  \n",
    "\n",
    "---\n",
    "\n",
    "** GitHub Repo: `CodeAlpha_Sentiment_Analysis`  "
   ]
  },
  {
   "cell_type": "code",
   "execution_count": null,
   "id": "4cab8424-0318-4370-9205-3b540d447fba",
   "metadata": {},
   "outputs": [],
   "source": []
  }
 ],
 "metadata": {
  "kernelspec": {
   "display_name": "Python 3 (ipykernel)",
   "language": "python",
   "name": "python3"
  },
  "language_info": {
   "codemirror_mode": {
    "name": "ipython",
    "version": 3
   },
   "file_extension": ".py",
   "mimetype": "text/x-python",
   "name": "python",
   "nbconvert_exporter": "python",
   "pygments_lexer": "ipython3",
   "version": "3.11.5"
  }
 },
 "nbformat": 4,
 "nbformat_minor": 5
}
